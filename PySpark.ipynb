{
 "cells": [
  {
   "cell_type": "code",
   "execution_count": 2,
   "metadata": {},
   "outputs": [
    {
     "name": "stdout",
     "output_type": "stream",
     "text": [
      "Processing c:\\users\\yupes\\appdata\\local\\pip\\cache\\wheels\\df\\88\\9e\\58ef1f74892fef590330ca0830b5b6d995ba29b44f977b3926\\pyspark-3.1.2-py2.py3-none-any.whl\n",
      "Collecting py4j==0.10.9\n",
      "  Using cached py4j-0.10.9-py2.py3-none-any.whl (198 kB)\n",
      "Installing collected packages: py4j, pyspark\n",
      "  Attempting uninstall: py4j\n",
      "    Found existing installation: py4j 0.10.6\n",
      "    Uninstalling py4j-0.10.6:\n",
      "      Successfully uninstalled py4j-0.10.6\n",
      "Successfully installed py4j-0.10.9 pyspark-3.1.2\n"
     ]
    }
   ],
   "source": [
    "!pip install pyspark"
   ]
  },
  {
   "cell_type": "code",
   "execution_count": 1,
   "metadata": {},
   "outputs": [],
   "source": [
    "from pyspark.sql import *\n",
    "from pyspark.sql.functions import *"
   ]
  },
  {
   "cell_type": "code",
   "execution_count": 2,
   "metadata": {},
   "outputs": [
    {
     "data": {
      "text/html": [
       "\n",
       "            <div>\n",
       "                <p><b>SparkSession - in-memory</b></p>\n",
       "                \n",
       "        <div>\n",
       "            <p><b>SparkContext</b></p>\n",
       "\n",
       "            <p><a href=\"http://192.168.0.5:4040\">Spark UI</a></p>\n",
       "\n",
       "            <dl>\n",
       "              <dt>Version</dt>\n",
       "                <dd><code>v3.1.2</code></dd>\n",
       "              <dt>Master</dt>\n",
       "                <dd><code>local[*]</code></dd>\n",
       "              <dt>AppName</dt>\n",
       "                <dd><code>pyspark test app</code></dd>\n",
       "            </dl>\n",
       "        </div>\n",
       "        \n",
       "            </div>\n",
       "        "
      ],
      "text/plain": [
       "<pyspark.sql.session.SparkSession at 0x1ff9aec33d0>"
      ]
     },
     "execution_count": 2,
     "metadata": {},
     "output_type": "execute_result"
    }
   ],
   "source": [
    "spark = SparkSession.builder.appName(\"pyspark test app\").master(\"local[*]\").getOrCreate()\n",
    "spark"
   ]
  },
  {
   "cell_type": "code",
   "execution_count": 3,
   "metadata": {},
   "outputs": [],
   "source": [
    "itmo_likers = spark.read.parquet(\"posts_likes.parquet\")"
   ]
  },
  {
   "cell_type": "code",
   "execution_count": 4,
   "metadata": {},
   "outputs": [],
   "source": [
    "users_likers = spark.read.parquet(\"followers_posts_likes.parquet\")"
   ]
  },
  {
   "cell_type": "code",
   "execution_count": 5,
   "metadata": {},
   "outputs": [],
   "source": [
    "posts = spark.read.json(\"posts_api.json\")"
   ]
  },
  {
   "cell_type": "code",
   "execution_count": 6,
   "metadata": {},
   "outputs": [],
   "source": [
    "users_posts = spark.read.json(\"followers_posts_api_final.json\")"
   ]
  },
  {
   "cell_type": "markdown",
   "metadata": {},
   "source": [
    "## Задание 1\n",
    "вывести топ 20 понравившихся, комментируемых, репостнутых постов по количеству (для обоих датасетов с постами)"
   ]
  },
  {
   "cell_type": "markdown",
   "metadata": {},
   "source": [
    "#### Топы паблика ИТМО"
   ]
  },
  {
   "cell_type": "code",
   "execution_count": 7,
   "metadata": {},
   "outputs": [
    {
     "name": "stdout",
     "output_type": "stream",
     "text": [
      "+---------+-----------+\n",
      "|      key|likes.count|\n",
      "+---------+-----------+\n",
      "|-94_32022|       1637|\n",
      "|-94_35068|       1629|\n",
      "|-94_17492|       1516|\n",
      "|-94_18526|       1026|\n",
      "|-94_19552|        955|\n",
      "|-94_41468|        952|\n",
      "|-94_19419|        868|\n",
      "|-94_29046|        824|\n",
      "|-94_32546|        786|\n",
      "|-94_24085|        765|\n",
      "|-94_40180|        759|\n",
      "|-94_33658|        708|\n",
      "|-94_13532|        633|\n",
      "|-94_40842|        631|\n",
      "|-94_35117|        588|\n",
      "|-94_17014|        581|\n",
      "|-94_19583|        553|\n",
      "|-94_19809|        552|\n",
      "|-94_27455|        550|\n",
      "|-94_11999|        549|\n",
      "+---------+-----------+\n",
      "only showing top 20 rows\n",
      "\n"
     ]
    }
   ],
   "source": [
    "#топ 20 понравившихся постов\n",
    "posts.select(\"key\", posts.likes.count).sort(desc('likes.count')).show()"
   ]
  },
  {
   "cell_type": "code",
   "execution_count": 8,
   "metadata": {},
   "outputs": [
    {
     "name": "stdout",
     "output_type": "stream",
     "text": [
      "+---------+--------------+\n",
      "|      key|comments.count|\n",
      "+---------+--------------+\n",
      "|-94_24085|           850|\n",
      "|-94_22540|           250|\n",
      "|-94_27722|           192|\n",
      "| -94_8285|           148|\n",
      "|-94_26860|           113|\n",
      "|-94_13571|           107|\n",
      "|-94_39294|           104|\n",
      "|-94_36680|            96|\n",
      "|-94_26006|            92|\n",
      "|-94_41739|            92|\n",
      "|-94_12426|            91|\n",
      "|-94_21499|            88|\n",
      "|-94_39407|            83|\n",
      "|-94_39163|            83|\n",
      "|-94_11267|            81|\n",
      "|-94_31548|            80|\n",
      "|-94_11158|            70|\n",
      "|-94_39082|            67|\n",
      "|-94_14602|            61|\n",
      "|-94_12687|            61|\n",
      "+---------+--------------+\n",
      "only showing top 20 rows\n",
      "\n"
     ]
    }
   ],
   "source": [
    "#топ 20 комменитруемых\n",
    "posts.select(\"key\", posts.comments.count).sort(desc('comments.count')).show()"
   ]
  },
  {
   "cell_type": "code",
   "execution_count": 9,
   "metadata": {},
   "outputs": [
    {
     "name": "stdout",
     "output_type": "stream",
     "text": [
      "+---------+-------------+\n",
      "|      key|reposts.count|\n",
      "+---------+-------------+\n",
      "|-94_17492|          334|\n",
      "|-94_19552|          246|\n",
      "|-94_32022|          210|\n",
      "|-94_11842|          129|\n",
      "|-94_19419|          126|\n",
      "|-94_13532|          110|\n",
      "|-94_17014|          105|\n",
      "|-94_35068|          101|\n",
      "|-94_41266|           92|\n",
      "|-94_12593|           90|\n",
      "|-94_29046|           87|\n",
      "|-94_41468|           85|\n",
      "|-94_11999|           85|\n",
      "|-94_19809|           84|\n",
      "|-94_17167|           81|\n",
      "|-94_10833|           78|\n",
      "|-94_18543|           77|\n",
      "|-94_16596|           76|\n",
      "|-94_18156|           74|\n",
      "|-94_37262|           71|\n",
      "+---------+-------------+\n",
      "only showing top 20 rows\n",
      "\n"
     ]
    }
   ],
   "source": [
    "#репостнутых\n",
    "posts.select(\"key\", posts.reposts.count).sort(desc('reposts.count')).show()"
   ]
  },
  {
   "cell_type": "markdown",
   "metadata": {},
   "source": [
    "#### Топы Юзеров"
   ]
  },
  {
   "cell_type": "code",
   "execution_count": 10,
   "metadata": {},
   "outputs": [
    {
     "name": "stdout",
     "output_type": "stream",
     "text": [
      "+----------------+-----------+\n",
      "|             key|likes.count|\n",
      "+----------------+-----------+\n",
      "|119920644_425873|       3271|\n",
      "|   368925151_330|       2745|\n",
      "|  101059709_3309|       2505|\n",
      "| 119920644_46298|       2457|\n",
      "|   368925151_329|       2194|\n",
      "|119920644_311504|       2160|\n",
      "|119920644_340354|       2148|\n",
      "| 119920644_90055|       2145|\n",
      "| 187877260_31472|       2099|\n",
      "|119920644_388261|       2092|\n",
      "|119920644_399151|       2000|\n",
      "| 119920644_46295|       1968|\n",
      "|119920644_428224|       1914|\n",
      "| 119920644_46264|       1776|\n",
      "|119920644_387736|       1739|\n",
      "|119920644_322736|       1665|\n",
      "|     640248_4004|       1593|\n",
      "| 187877260_32164|       1574|\n",
      "| 119920644_46287|       1517|\n",
      "| 124015630_16762|       1515|\n",
      "+----------------+-----------+\n",
      "only showing top 20 rows\n",
      "\n"
     ]
    }
   ],
   "source": [
    "#понравившиеся посты пользователей\n",
    "users_posts.select(\"key\", users_posts.likes.count).sort(desc('likes.count')).show()"
   ]
  },
  {
   "cell_type": "code",
   "execution_count": 11,
   "metadata": {},
   "outputs": [
    {
     "name": "stdout",
     "output_type": "stream",
     "text": [
      "+----------------+--------------+\n",
      "|             key|comments.count|\n",
      "+----------------+--------------+\n",
      "|119920644_215530|         18189|\n",
      "|119920644_118126|         17041|\n",
      "|119920644_234835|         12841|\n",
      "|119920644_169456|         12240|\n",
      "| 119920644_57446|         11596|\n",
      "|119920644_372853|         10812|\n",
      "|119920644_255172|         10571|\n",
      "|119920644_142040|         10155|\n",
      "|119920644_361645|          7982|\n",
      "|119920644_274765|          7940|\n",
      "|119920644_266558|          7892|\n",
      "|119920644_409131|          7292|\n",
      "|119920644_248206|          6727|\n",
      "|119920644_344296|          6712|\n",
      "|119920644_418844|          6635|\n",
      "|119920644_183587|          6535|\n",
      "|119920644_160366|          6262|\n",
      "| 119920644_84138|          5326|\n",
      "|119920644_403930|          5164|\n",
      "| 119920644_90133|          5129|\n",
      "+----------------+--------------+\n",
      "only showing top 20 rows\n",
      "\n"
     ]
    }
   ],
   "source": [
    "#top 20 комментируемых постов пользователей\n",
    "users_posts.select(\"key\", users_posts.comments.count).sort(desc('comments.count')).show()"
   ]
  },
  {
   "cell_type": "code",
   "execution_count": 12,
   "metadata": {},
   "outputs": [
    {
     "name": "stdout",
     "output_type": "stream",
     "text": [
      "+---------------+-------------+\n",
      "|            key|reposts.count|\n",
      "+---------------+-------------+\n",
      "|    640248_4004|          573|\n",
      "|124015630_16762|          368|\n",
      "|   98318286_560|          319|\n",
      "|194073434_22211|          244|\n",
      "|   70073107_392|          236|\n",
      "| 16861388_15059|          227|\n",
      "|  4672831_16617|          220|\n",
      "|  4672831_16938|          137|\n",
      "| 25317378_74049|          136|\n",
      "|194073434_17241|          132|\n",
      "| 101059709_3309|          122|\n",
      "| 164005179_8063|          120|\n",
      "|     32200_5956|          120|\n",
      "| 16861388_15061|          116|\n",
      "| 32001687_15046|          114|\n",
      "| 16861388_15578|          110|\n",
      "|     73115_7213|          103|\n",
      "| 226636244_6574|          103|\n",
      "|   4555424_6869|          100|\n",
      "| 16861388_15295|           96|\n",
      "+---------------+-------------+\n",
      "only showing top 20 rows\n",
      "\n"
     ]
    }
   ],
   "source": [
    "#топ 20 репостнутых постов\n",
    "users_posts.select(\"key\", users_posts.reposts.count).sort(desc('reposts.count')).show()"
   ]
  },
  {
   "cell_type": "markdown",
   "metadata": {},
   "source": [
    "## Задание 2\n",
    "вывести топ 20 пользователей по сделанным лайкам и репостам"
   ]
  },
  {
   "cell_type": "code",
   "execution_count": 13,
   "metadata": {},
   "outputs": [
    {
     "name": "stdout",
     "output_type": "stream",
     "text": [
      "+---------+-----+\n",
      "|  likerId|count|\n",
      "+---------+-----+\n",
      "|194073434| 8107|\n",
      "|150371150| 5332|\n",
      "|271081114| 5261|\n",
      "|  6524088| 4946|\n",
      "|  2070090| 4852|\n",
      "|189597336| 3711|\n",
      "|142999083| 3394|\n",
      "|215686327| 3217|\n",
      "|514404131| 2747|\n",
      "|  2818498| 2351|\n",
      "|419925361| 2214|\n",
      "|493380857| 2162|\n",
      "|424434709| 2122|\n",
      "|  2397858| 2067|\n",
      "|  1475301| 2005|\n",
      "| 95783577| 1985|\n",
      "| 94697255| 1975|\n",
      "|  4448812| 1778|\n",
      "|330771656| 1763|\n",
      "|228571738| 1720|\n",
      "+---------+-----+\n",
      "only showing top 20 rows\n",
      "\n"
     ]
    }
   ],
   "source": [
    "#Топ лайкеров\n",
    "likers = itmo_likers.union(users_likers)\n",
    "top_users_likers = likers.groupby('likerId').count().select('likerId', 'count').sort('count', ascending=False).show()"
   ]
  },
  {
   "cell_type": "code",
   "execution_count": 14,
   "metadata": {},
   "outputs": [
    {
     "name": "stdout",
     "output_type": "stream",
     "text": [
      "+---------+-----+\n",
      "| owner_id|count|\n",
      "+---------+-----+\n",
      "|  2547211|37742|\n",
      "|357231922|23349|\n",
      "|168543860|18429|\n",
      "| 25646344|11122|\n",
      "|176861294| 9022|\n",
      "|524656784| 7242|\n",
      "|    29840| 7164|\n",
      "|143207077| 7161|\n",
      "|141687240| 6804|\n",
      "|459339006| 6741|\n",
      "|514384760| 6570|\n",
      "|483715951| 6052|\n",
      "|445159771| 5808|\n",
      "|451211328| 5646|\n",
      "|426396104| 5533|\n",
      "|  8325325| 5532|\n",
      "|452280411| 5458|\n",
      "|464220898| 5318|\n",
      "|440454268| 5304|\n",
      "|461319529| 5240|\n",
      "+---------+-----+\n",
      "only showing top 20 rows\n",
      "\n"
     ]
    }
   ],
   "source": [
    "#Топ репостеров\n",
    "users_reposts = users_posts[users_posts['copy_history.owner_id'].isNotNull()].select('owner_id', 'id')\n",
    "itmo_reposts = posts[posts['copy_history.owner_id'].isNotNull()].select('owner_id', 'id')\n",
    "reposts = users_reposts.union(itmo_reposts)\n",
    "reposts.groupby('owner_id').count().sort('count', ascending=False).show()"
   ]
  },
  {
   "cell_type": "markdown",
   "metadata": {},
   "source": [
    "## Задание 3\n",
    " получить репосты исходных постов группы itmo (posts.json) из постов пользователей "
   ]
  },
  {
   "cell_type": "code",
   "execution_count": 15,
   "metadata": {},
   "outputs": [
    {
     "name": "stdout",
     "output_type": "stream",
     "text": [
      "+-------+---------+-------+---------+\n",
      "|id_itmo|      col|post_id| owner_id|\n",
      "+-------+---------+-------+---------+\n",
      "|    -94|    41468|   1931|  1994419|\n",
      "|    -94|    41207|   5402|  2070090|\n",
      "|    -94|    41468|   5408|  2070090|\n",
      "|    -94|    41945|   5411|  2070090|\n",
      "|    -94|    42163|   5416|  2070090|\n",
      "|    -94|    42273|   5417|  2070090|\n",
      "|    -94|    40780|   3802|  6591522|\n",
      "|    -94|    41721|   3810|  9334984|\n",
      "|    -94|456239329|   6386| 11110531|\n",
      "|    -94|    41266|   1150| 29885219|\n",
      "|    -94|    42316|   2495| 56864900|\n",
      "|    -94|    42256|   2487| 56864900|\n",
      "|    -94|    41093|  14287| 84049910|\n",
      "|    -94|    41546|    666| 82668971|\n",
      "|    -94|    38740|   1060| 83076388|\n",
      "|    -94|    41468|    440|151172973|\n",
      "|    -94|    41506|  12823|139081799|\n",
      "|    -94|    40856|   3611|148521296|\n",
      "|    -94|    42273|  11013|180907432|\n",
      "|    -94|    41369|  10725|180907432|\n",
      "+-------+---------+-------+---------+\n",
      "only showing top 20 rows\n",
      "\n"
     ]
    }
   ],
   "source": [
    "reposts = users_posts.select(explode(users_posts.copy_history.owner_id).alias('id_itmo'),\n",
    "                            users_posts.copy_history.id.alias('post_id_itmo'),\n",
    "                            users_posts.id.alias('post_id'), \n",
    "                            users_posts.owner_id)\n",
    "\n",
    "reposts.filter(reposts.id_itmo == -94).select(\n",
    "    col('id_itmo'),\n",
    "    explode(col('post_id_itmo')),\n",
    "    col('post_id'),\n",
    "    col('owner_id')).show()"
   ]
  },
  {
   "cell_type": "code",
   "execution_count": 16,
   "metadata": {},
   "outputs": [
    {
     "name": "stdout",
     "output_type": "stream",
     "text": [
      "+---------+---------+\n",
      "| owner_id|      col|\n",
      "+---------+---------+\n",
      "|412594050|    41266|\n",
      "|483010700|    41266|\n",
      "|483010700|    40100|\n",
      "| 27832682|    40480|\n",
      "|153941761|    41659|\n",
      "| 55930167|    41676|\n",
      "|409283061|    40569|\n",
      "|    19471|    41468|\n",
      "|466028583|    42188|\n",
      "|466854889|    41679|\n",
      "|140186736|    42730|\n",
      "| 12143105|    41708|\n",
      "|156713648|    41945|\n",
      "|156713648|    38767|\n",
      "|    53027|    41468|\n",
      "|   471165|456239414|\n",
      "|164820203|    42714|\n",
      "| 23055567|    41588|\n",
      "|516669490|    41686|\n",
      "| 34157796|    39749|\n",
      "+---------+---------+\n",
      "only showing top 20 rows\n",
      "\n"
     ]
    }
   ],
   "source": [
    "user_reposts = users_posts.filter(users_posts.copy_history.owner_id[0] == -94).groupby(\n",
    "    users_posts.owner_id).agg((collect_set(users_posts.copy_history['id'][0]).alias('post_ids')))\n",
    "user_reposts.select(col('owner_id'), explode('post_ids')).show()"
   ]
  },
  {
   "cell_type": "markdown",
   "metadata": {},
   "source": [
    "## Задание 4\n",
    "найти смайлики в постах и комментариях к постам (негативные, позитивные, нейтральные) "
   ]
  },
  {
   "cell_type": "code",
   "execution_count": 18,
   "metadata": {},
   "outputs": [
    {
     "name": "stdout",
     "output_type": "stream",
     "text": [
      "Collecting emoji\n",
      "  Downloading emoji-1.4.1.tar.gz (185 kB)\n",
      "Building wheels for collected packages: emoji\n",
      "  Building wheel for emoji (setup.py): started\n",
      "  Building wheel for emoji (setup.py): finished with status 'done'\n",
      "  Created wheel for emoji: filename=emoji-1.4.1-py3-none-any.whl size=186380 sha256=4d9a5fc1941f8661f8b86f8889f3b7c5cd4398853cd3d8d32463e72c07d1ca14\n",
      "  Stored in directory: c:\\users\\yupes\\appdata\\local\\pip\\cache\\wheels\\9e\\a5\\d8\\dea02b6be962ee32404006efa68513e8701aabc12fd80fd3f6\n",
      "Successfully built emoji\n",
      "Installing collected packages: emoji\n",
      "Successfully installed emoji-1.4.1\n"
     ]
    }
   ],
   "source": [
    "!pip install emoji"
   ]
  },
  {
   "cell_type": "code",
   "execution_count": 17,
   "metadata": {},
   "outputs": [],
   "source": [
    "import emoji"
   ]
  },
  {
   "cell_type": "code",
   "execution_count": null,
   "metadata": {},
   "outputs": [],
   "source": [
    "from pyspark.sql.types import *\n",
    "\n",
    "bcast = spark.sparkContext.broadcast(emoji.UNICODE_EMOJI)\n",
    "def get_matching_string(t):\n",
    "    l = []\n",
    "    for c in t:\n",
    "        if c not in l and c in bcast.value:\n",
    "            l.append(c)\n",
    "    return(l)\n",
    "\n",
    "\n",
    "udf_func = udf(get_matching_string)\n",
    "\n",
    "df_extr = users_posts.withColumn('matched', lit(udf_func(users_posts['text'])).cast(StringType()))\n",
    "df_emojis = df_extr.withColumn('count_emojis', size(df_extr['matched']))"
   ]
  },
  {
   "cell_type": "code",
   "execution_count": null,
   "metadata": {},
   "outputs": [],
   "source": [
    "df_emojis = df_emojis.select(df_emojis.text, df_emojis.matched) #df_emojis.count_emojis)\n",
    "df_emojis.show()"
   ]
  },
  {
   "cell_type": "code",
   "execution_count": null,
   "metadata": {},
   "outputs": [],
   "source": [
    "df_emojis_itmo = posts.withColumn('matched', lit(udf_func(posts['text'])).cast(StringType()))\n",
    "# df_emojis_itmo = df_extr.withColumn('count_emojis', size(df_extr['matched']))\n",
    "df_emojis_itmo = df_emojis_itmo.select(df_emojis_itmo.text, df_emojis_itmo.matched)#, df_emojis_itmo.count_emojis)\n",
    "df_emojis_itmo.show()"
   ]
  },
  {
   "cell_type": "markdown",
   "metadata": {},
   "source": [
    "## Задание 5 и 6\n",
    "- Найти друзей. Идея, если пользователи лайкают друг друга, то они друзья.  (*бонус)\n",
    "- Найти поклонников. Идея, если пользователь лайкает другого, и это не взаимно, то первый поклонник. "
   ]
  },
  {
   "cell_type": "code",
   "execution_count": 22,
   "metadata": {},
   "outputs": [],
   "source": [
    "owner_ids = users_likers.select(users_likers.ownerId.alias('OI')).distinct()"
   ]
  },
  {
   "cell_type": "code",
   "execution_count": 23,
   "metadata": {},
   "outputs": [],
   "source": [
    "filtered_ul = users_likers.join(owner_ids,users_likers['likerId'] == owner_ids['OI']).drop('OI')"
   ]
  },
  {
   "cell_type": "code",
   "execution_count": 24,
   "metadata": {},
   "outputs": [],
   "source": [
    "owners = filtered_ul.select(filtered_ul.ownerId.alias('ownerId_dp'), filtered_ul.likerId.alias('likerId_dp'))"
   ]
  },
  {
   "cell_type": "code",
   "execution_count": 25,
   "metadata": {},
   "outputs": [],
   "source": [
    "tmp = filtered_ul.join(owners.alias('owner'), col(\"likerId\") == col(\"owner.ownerId_dp\"))"
   ]
  },
  {
   "cell_type": "code",
   "execution_count": 26,
   "metadata": {},
   "outputs": [],
   "source": [
    "equals = tmp.filter((tmp.ownerId == tmp.likerId_dp) & (tmp.ownerId_dp == tmp.likerId) & (tmp.ownerId != tmp.likerId)).distinct()"
   ]
  },
  {
   "cell_type": "code",
   "execution_count": 27,
   "metadata": {},
   "outputs": [],
   "source": [
    "nanEquals = tmp.filter((tmp.ownerId != tmp.likerId) & (~col('likerId_dp').isin(tmp.ownerId))).distinct()"
   ]
  },
  {
   "cell_type": "code",
   "execution_count": 28,
   "metadata": {},
   "outputs": [
    {
     "name": "stdout",
     "output_type": "stream",
     "text": [
      "+--------+------+---------+\n",
      "| ownerId|postId|  likerId|\n",
      "+--------+------+---------+\n",
      "|   25505|  2020|   813732|\n",
      "|   25505|  2021|   813732|\n",
      "|   25505|  2022|   813732|\n",
      "|  586042|   981|    99752|\n",
      "|  586042|   988|    99752|\n",
      "|  586042|   927|    99752|\n",
      "|  586042|   941|    99752|\n",
      "| 5830376|  2502| 53943763|\n",
      "| 7838443|  4643| 48096249|\n",
      "| 7838443|  4633| 48096249|\n",
      "| 7838443|  4649| 48096249|\n",
      "| 7838443|  4620| 48096249|\n",
      "| 9748662|  4334| 83764103|\n",
      "| 9748662|  4365| 83764103|\n",
      "|10518257|  4740|104752267|\n",
      "|10518257|  4738|104752267|\n",
      "|20040894|  1043|222761898|\n",
      "|20040894|  1031|222761898|\n",
      "|20040894|  1052|222761898|\n",
      "|32224206|  1294|229468754|\n",
      "+--------+------+---------+\n",
      "only showing top 20 rows\n",
      "\n"
     ]
    },
    {
     "data": {
      "text/plain": [
       "(16779, None)"
      ]
     },
     "execution_count": 28,
     "metadata": {},
     "output_type": "execute_result"
    }
   ],
   "source": [
    "#Друзья\n",
    "equals = equals.select(equals.ownerId, col('itemId').alias('postId'), col('likerId'))\n",
    "equals.count(), equals.show()"
   ]
  },
  {
   "cell_type": "code",
   "execution_count": 29,
   "metadata": {},
   "outputs": [
    {
     "name": "stdout",
     "output_type": "stream",
     "text": [
      "+-------+------+-------+\n",
      "|ownerId|postId|likerId|\n",
      "+-------+------+-------+\n",
      "|  99752|  1781| 586042|\n",
      "+-------+------+-------+\n",
      "\n",
      "+-------+------+-------+\n",
      "|ownerId|postId|likerId|\n",
      "+-------+------+-------+\n",
      "| 813732|  2066|  25505|\n",
      "+-------+------+-------+\n",
      "\n",
      "+--------+------+-------+\n",
      "| ownerId|postId|likerId|\n",
      "+--------+------+-------+\n",
      "|48096249| 15224|7838443|\n",
      "|48096249| 15222|7838443|\n",
      "|48096249| 15234|7838443|\n",
      "+--------+------+-------+\n",
      "\n"
     ]
    }
   ],
   "source": [
    "#Проверка\n",
    "equals.filter(col('ownerId') == '99752').filter(col('likerId')=='586042').show()\n",
    "equals.filter(col('ownerId') == '813732').filter(col('likerId')=='25505').show()\n",
    "equals.filter(col('ownerId') == '48096249').filter(col('likerId')=='7838443').show()"
   ]
  },
  {
   "cell_type": "code",
   "execution_count": 30,
   "metadata": {},
   "outputs": [
    {
     "name": "stdout",
     "output_type": "stream",
     "text": [
      "+---------+------+--------+\n",
      "|  ownerId|postId| likerId|\n",
      "+---------+------+--------+\n",
      "|    15221| 25874|   13832|\n",
      "|    36206|  6106| 3398212|\n",
      "|    36206|  5847| 3398212|\n",
      "|161534908|  6183| 3398212|\n",
      "|161534908|  5996| 3398212|\n",
      "|161534908|  5799| 3398212|\n",
      "|161534908|  5611| 3398212|\n",
      "|161534908|  5564| 3398212|\n",
      "|161534908|  5530| 3398212|\n",
      "|161534908|  5478| 3398212|\n",
      "|161534908|  5441| 3398212|\n",
      "|161534908|  5448| 3398212|\n",
      "|161534908|  5430| 3398212|\n",
      "|161534908|  5408| 3398212|\n",
      "|161534908|  5372| 3398212|\n",
      "|161534908|  5332| 3398212|\n",
      "|161534908|  5338| 3398212|\n",
      "|    24770| 13950| 3398212|\n",
      "|  1077823| 10310| 4239819|\n",
      "|  1077823| 10308| 4239819|\n",
      "|  1077823|  9746| 4239819|\n",
      "|  1077823|  9722| 4239819|\n",
      "|  1077823|  9723| 4239819|\n",
      "|  1077823|  9725| 4239819|\n",
      "|  1077823|  9721| 4239819|\n",
      "|  1077823|  9724| 4239819|\n",
      "|  1077823|  9628| 4239819|\n",
      "|  1077823|  9637| 4239819|\n",
      "|  1077823|  9612| 4239819|\n",
      "|  1077823|  9531| 4239819|\n",
      "|  1077823|  9476| 4239819|\n",
      "|  1077823|  9418| 4239819|\n",
      "|  1077823|  9337| 4239819|\n",
      "|  1077823|  9189| 4239819|\n",
      "|  1077823|  9167| 4239819|\n",
      "|  1077823|  9035| 4239819|\n",
      "|  1077823|  8925| 4239819|\n",
      "|   317799|  4774| 4239819|\n",
      "| 37259038| 25183| 6386424|\n",
      "| 37259038| 25182| 6386424|\n",
      "| 37259038| 25175| 6386424|\n",
      "| 37259038| 24512| 6386424|\n",
      "| 37259038| 24281| 6386424|\n",
      "| 37259038| 24280| 6386424|\n",
      "| 37259038| 24175| 6386424|\n",
      "| 37259038| 24256| 6386424|\n",
      "|  8447441| 41944| 6386424|\n",
      "|  8447441| 41620| 6386424|\n",
      "| 16522553|  2294| 7164436|\n",
      "|145412818|   766|49848562|\n",
      "|145412818|   753|49848562|\n",
      "|145412818|   741|49848562|\n",
      "|176091020|  2427|49848562|\n",
      "|154714550|   753|49848562|\n",
      "| 55475736|  3745|49848562|\n",
      "|556988289|    15|49848562|\n",
      "|556988289|     8|49848562|\n",
      "|556988289|     9|49848562|\n",
      "|344343850|    22|49848562|\n",
      "|315202200|    33|49848562|\n",
      "|344343850|    21|49848562|\n",
      "|558827277|     1|49848562|\n",
      "| 23839629|  6031|63394933|\n",
      "| 23839629|  6031|63394933|\n",
      "| 23839629|  6031|63394933|\n",
      "| 23839629|  6032|63394933|\n",
      "| 23839629|  6032|63394933|\n",
      "| 23839629|  6032|63394933|\n",
      "| 23839629|  6050|63394933|\n",
      "| 23839629|  6050|63394933|\n",
      "| 23839629|  6050|63394933|\n",
      "| 23839629|  6051|63394933|\n",
      "| 23839629|  6051|63394933|\n",
      "| 23839629|  6051|63394933|\n",
      "| 23839629|  6052|63394933|\n",
      "| 23839629|  6052|63394933|\n",
      "| 23839629|  6052|63394933|\n",
      "| 23839629|  6048|63394933|\n",
      "| 23839629|  6048|63394933|\n",
      "| 23839629|  6048|63394933|\n",
      "| 23839629|  6026|63394933|\n",
      "| 23839629|  6026|63394933|\n",
      "| 23839629|  6026|63394933|\n",
      "| 23839629|  6027|63394933|\n",
      "| 23839629|  6027|63394933|\n",
      "| 23839629|  6027|63394933|\n",
      "|163435990|  1405|63394933|\n",
      "|163435990|  1405|63394933|\n",
      "|267810099|   494|63394933|\n",
      "|267810099|   494|63394933|\n",
      "|306995029|  1126|80734900|\n",
      "|306995029|  1070|80734900|\n",
      "|306995029|  1093|80734900|\n",
      "|306995029|  1106|80734900|\n",
      "|169088867|  1144|90898752|\n",
      "|169088867|  1144|90898752|\n",
      "|169088867|  1144|90898752|\n",
      "|169088867|  1144|90898752|\n",
      "|168438070|  3253|90898752|\n",
      "|168438070|  3253|90898752|\n",
      "+---------+------+--------+\n",
      "only showing top 100 rows\n",
      "\n"
     ]
    },
    {
     "data": {
      "text/plain": [
       "(313665, None)"
      ]
     },
     "execution_count": 30,
     "metadata": {},
     "output_type": "execute_result"
    }
   ],
   "source": [
    "#Поклонники\n",
    "nanEquals = nanEquals.select(nanEquals.ownerId, col('itemId').alias('postId'), col('likerId'))\n",
    "nanEquals.count(), nanEquals.show(100)"
   ]
  },
  {
   "cell_type": "code",
   "execution_count": 31,
   "metadata": {},
   "outputs": [
    {
     "name": "stdout",
     "output_type": "stream",
     "text": [
      "+--------+-------+------+-------+----------+----------+\n",
      "|itemType|ownerId|itemId|likerId|ownerId_dp|likerId_dp|\n",
      "+--------+-------+------+-------+----------+----------+\n",
      "+--------+-------+------+-------+----------+----------+\n",
      "\n",
      "+--------+-------+------+-------+----------+----------+\n",
      "|itemType|ownerId|itemId|likerId|ownerId_dp|likerId_dp|\n",
      "+--------+-------+------+-------+----------+----------+\n",
      "+--------+-------+------+-------+----------+----------+\n",
      "\n",
      "+--------+-------+------+-------+----------+----------+\n",
      "|itemType|ownerId|itemId|likerId|ownerId_dp|likerId_dp|\n",
      "+--------+-------+------+-------+----------+----------+\n",
      "+--------+-------+------+-------+----------+----------+\n",
      "\n"
     ]
    }
   ],
   "source": [
    "#Проверка\n",
    "tmp.filter(col('ownerId') == '3398212').filter(col('likerId')=='161534908').show()\n",
    "tmp.filter(col('ownerId') == '4239819').filter(col('likerId')=='1077823').show()\n",
    "tmp.filter(col('ownerId') == '6386424').filter(col('likerId')=='37259038').show()"
   ]
  },
  {
   "cell_type": "code",
   "execution_count": null,
   "metadata": {},
   "outputs": [],
   "source": []
  }
 ],
 "metadata": {
  "kernelspec": {
   "display_name": "Python 3",
   "language": "python",
   "name": "python3"
  },
  "language_info": {
   "codemirror_mode": {
    "name": "ipython",
    "version": 3
   },
   "file_extension": ".py",
   "mimetype": "text/x-python",
   "name": "python",
   "nbconvert_exporter": "python",
   "pygments_lexer": "ipython3",
   "version": "3.8.3"
  }
 },
 "nbformat": 4,
 "nbformat_minor": 4
}
